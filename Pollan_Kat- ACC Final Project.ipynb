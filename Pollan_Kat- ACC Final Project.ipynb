{
 "cells": [
  {
   "cell_type": "code",
   "execution_count": 1,
   "metadata": {},
   "outputs": [],
   "source": [
    "#Imports\n",
    "import pandas as pd\n",
    "import matplotlib.pyplot as plt\n",
    "import collections\n",
    "\n",
    "#CSV's being used\n",
    "trump_tweets = pd.read_csv('trump_tweetsCORRECTED_dataframe.csv')\n",
    "obama_tweets = pd.read_csv('obamatweets2ndterm_dataframe.csv')\n",
    "trudeau_tweets = pd.read_csv('trudeautwets_dataframe.csv')"
   ]
  },
  {
   "cell_type": "code",
   "execution_count": 16,
   "metadata": {},
   "outputs": [
    {
     "data": {
      "text/plain": [
       "OrderedDict([(0, 302),\n",
       "             (1, 103),\n",
       "             (2, 42),\n",
       "             (3, 27),\n",
       "             (4, 20),\n",
       "             (5, 59),\n",
       "             (6, 495),\n",
       "             (7, 1019),\n",
       "             (8, 1327),\n",
       "             (9, 1161),\n",
       "             (10, 893),\n",
       "             (11, 700),\n",
       "             (12, 539),\n",
       "             (13, 515),\n",
       "             (14, 561),\n",
       "             (15, 622),\n",
       "             (16, 648),\n",
       "             (17, 616),\n",
       "             (18, 763),\n",
       "             (19, 642),\n",
       "             (20, 565),\n",
       "             (21, 579),\n",
       "             (22, 593),\n",
       "             (23, 504)])"
      ]
     },
     "execution_count": 16,
     "metadata": {},
     "output_type": "execute_result"
    }
   ],
   "source": [
    "#Trump's twitter data\n",
    "\n",
    "#splitting up the time from the datetime stamp in the CSV\n",
    "trump_time = [item.split(\" \")[1] for item in trump_tweets['Date'].values]\n",
    "\n",
    "#isolating the hour and making a list of hours tweeted\n",
    "trump_hour = [item.split(\":\")[0] for item in trump_time]\n",
    "\n",
    "#converting UTC to EST for readability\n",
    "trump_hourEST = [(int(item)-4)%24 for item in trump_hour]\n",
    "\n",
    "#turning the previous list into a dictionary with 'counts' of how many instances\n",
    "trhours_tweeted = collections.Counter(trump_hourEST)\n",
    "\n",
    "#ordering the dictionary so it goes 00 to 23\n",
    "trhours_tweeted_od = collections.OrderedDict(sorted(trhours_tweeted.items()))\n",
    "\n",
    "trump = pd.DataFrame.from_dict([trhours_tweeted_od])\n",
    "\n",
    "trhours_tweeted_od"
   ]
  },
  {
   "cell_type": "code",
   "execution_count": 15,
   "metadata": {},
   "outputs": [
    {
     "data": {
      "text/plain": [
       "OrderedDict([(0, 7),\n",
       "             (1, 4),\n",
       "             (7, 1),\n",
       "             (8, 2),\n",
       "             (9, 42),\n",
       "             (10, 243),\n",
       "             (11, 697),\n",
       "             (12, 800),\n",
       "             (13, 755),\n",
       "             (14, 821),\n",
       "             (15, 724),\n",
       "             (16, 671),\n",
       "             (17, 646),\n",
       "             (18, 398),\n",
       "             (19, 240),\n",
       "             (20, 87),\n",
       "             (21, 68),\n",
       "             (22, 146),\n",
       "             (23, 53)])"
      ]
     },
     "execution_count": 15,
     "metadata": {},
     "output_type": "execute_result"
    }
   ],
   "source": [
    "#Obama's twitter data\n",
    "\n",
    "#splitting up the time from the datetime stamp in the CSV\n",
    "obama_time = [item.split(\" \")[1] for item in obama_tweets['Date'].values]\n",
    "\n",
    "#isolating the hour and making a list of hours tweeted\n",
    "obama_hour = [item.split(\":\")[0] for item in obama_time]\n",
    "\n",
    "#converting UTC to EST for readability\n",
    "obama_hourEST = [(int(item)-4)%24 for item in obama_hour]\n",
    "\n",
    "#turning the previous list into a dictionary with 'counts' of how many instances\n",
    "obhours_tweeted = collections.Counter(obama_hourEST)\n",
    "\n",
    "#ordering the dictionary so it goes 00 to 23\n",
    "obhours_tweeted_od = collections.OrderedDict(sorted(obhours_tweeted.items()))\n",
    "\n",
    "obama = pd.DataFrame.from_dict([obhours_tweeted_od])\n",
    "\n",
    "obhours_tweeted_od"
   ]
  },
  {
   "cell_type": "code",
   "execution_count": 17,
   "metadata": {},
   "outputs": [
    {
     "data": {
      "text/plain": [
       "OrderedDict([(0, 45),\n",
       "             (1, 14),\n",
       "             (2, 4),\n",
       "             (5, 1),\n",
       "             (6, 11),\n",
       "             (7, 88),\n",
       "             (8, 348),\n",
       "             (9, 589),\n",
       "             (10, 736),\n",
       "             (11, 699),\n",
       "             (12, 750),\n",
       "             (13, 902),\n",
       "             (14, 909),\n",
       "             (15, 785),\n",
       "             (16, 870),\n",
       "             (17, 902),\n",
       "             (18, 791),\n",
       "             (19, 693),\n",
       "             (20, 660),\n",
       "             (21, 508),\n",
       "             (22, 400),\n",
       "             (23, 134)])"
      ]
     },
     "execution_count": 17,
     "metadata": {},
     "output_type": "execute_result"
    }
   ],
   "source": [
    "#Trudeau's twitter data\n",
    "\n",
    "#splitting up the time from the datetime stamp in the CSV\n",
    "trudeau_time = [item.split(\" \")[1] for item in trudeau_tweets['Date'].values]\n",
    "\n",
    "#isolating the hour and making a list of hours tweeted\n",
    "trudeau_hour = [item.split(\":\")[0] for item in trudeau_time]\n",
    "\n",
    "#converting UTC to EST for readability\n",
    "trudeau_hourEST = [(int(item)-4)%24 for item in trudeau_hour]\n",
    "\n",
    "#turning the previous list into a dictionary with 'counts' of how many instances\n",
    "jthours_tweeted = collections.Counter(trudeau_hourEST)\n",
    "\n",
    "#ordering the dictionary so it goes 00 to 23\n",
    "jthours_tweeted_od = collections.OrderedDict(sorted(jthours_tweeted.items()))\n",
    "\n",
    "trudeau = pd.DataFrame.from_dict([jthours_tweeted_od])\n",
    "\n",
    "jthours_tweeted_od"
   ]
  },
  {
   "cell_type": "code",
   "execution_count": 9,
   "metadata": {},
   "outputs": [
    {
     "data": {
      "image/png": "[encoded data removed]",
      "text/plain": [
       "<Figure size 432x288 with 1 Axes>"
      ]
     },
     "metadata": {
      "needs_background": "light"
     },
     "output_type": "display_data"
    },
    {
     "name": "stdout",
     "output_type": "stream",
     "text": [
      "Tweets collected from 1/20/2017 to 9/6/20\n"
     ]
    }
   ],
   "source": [
    "#Plotting Trump's twitter data\n",
    "#The dictionary values are acting as the X,Y coordinates- the # of instances (or values) are the Y axis\n",
    "#The hour of the day (the key of the dictionary) is the x axis\n",
    "#techinically I didn't need to reorder/resort the dictionary, but made more visual sense\n",
    "fig, ax = plt.subplots()\n",
    "plt.bar(trhours_tweeted_od.keys(), trhours_tweeted_od.values(), color='r')\n",
    "plt.suptitle('@realDonaldTrump Twitter Activity: Most Active Hours')\n",
    "plt.xlabel(\"Time- in EST\")\n",
    "plt.ylabel(\"Number of Tweets\")\n",
    "plt.show()\n",
    "print('Tweets collected from 1/20/2017 to 9/6/20')\n",
    "fig.savefig(\"Trumptweets_graph.png\")"
   ]
  },
  {
   "cell_type": "code",
   "execution_count": 13,
   "metadata": {},
   "outputs": [
    {
     "data": {
      "image/png": "[encoded data removed]",
      "text/plain": [
       "<Figure size 432x288 with 1 Axes>"
      ]
     },
     "metadata": {
      "needs_background": "light"
     },
     "output_type": "display_data"
    },
    {
     "name": "stdout",
     "output_type": "stream",
     "text": [
      "Tweets collected from 1/20/2013 to 1/20/2017\n"
     ]
    }
   ],
   "source": [
    "#Plot of President Obama's Twitter activity by hour\n",
    "fig2, ax = plt.subplots()\n",
    "plt.bar(obhours_tweeted_od.keys(), obhours_tweeted_od.values(), color='b')\n",
    "plt.suptitle('@barackobama Twitter Activity: Most Active Hours')\n",
    "plt.xlabel(\"Time- in EST\")\n",
    "plt.ylabel(\"Number of Tweets\")\n",
    "plt.show()\n",
    "print('Tweets collected from 1/20/2013 to 1/20/2017')\n",
    "fig2.savefig(\"Obamatweets_graph.png\")"
   ]
  },
  {
   "cell_type": "code",
   "execution_count": 14,
   "metadata": {},
   "outputs": [
    {
     "data": {
      "image/png": "[encoded data removed]",
      "text/plain": [
       "<Figure size 432x288 with 1 Axes>"
      ]
     },
     "metadata": {
      "needs_background": "light"
     },
     "output_type": "display_data"
    },
    {
     "name": "stdout",
     "output_type": "stream",
     "text": [
      "Tweets collected from 11/4/2015 to 11/20/2019\n"
     ]
    }
   ],
   "source": [
    "#plot of PM Trudeau's Twitter activity by hour\n",
    "fig3, ax = plt.subplots()\n",
    "plt.bar(jthours_tweeted_od.keys(), jthours_tweeted_od.values(), color='g')\n",
    "plt.suptitle('@JustinTrudeau Twitter Activity: Most Active Hours')\n",
    "plt.xlabel(\"Time- in EST\")\n",
    "plt.ylabel(\"Number of Tweets\")\n",
    "plt.show()\n",
    "print('Tweets collected from 11/4/2015 to 11/20/2019')\n",
    "fig3.savefig(\"Trudeautweets_graph.png\")"
   ]
  }
 ],
 "metadata": {
  "kernelspec": {
   "display_name": "Python 3",
   "language": "python",
   "name": "python3"
  },
  "language_info": {
   "codemirror_mode": {
    "name": "ipython",
    "version": 3
   },
   "file_extension": ".py",
   "mimetype": "text/x-python",
   "name": "python",
   "nbconvert_exporter": "python",
   "pygments_lexer": "ipython3",
   "version": "3.8.3"
  }
 },
 "nbformat": 4,
 "nbformat_minor": 4
}
