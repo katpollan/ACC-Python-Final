{
 "cells": [
  {
   "cell_type": "code",
   "execution_count": 5,
   "metadata": {},
   "outputs": [],
   "source": [
    "import GetOldTweets3 as got #python library to get older tweets\n",
    "import pandas as pd"
   ]
  },
  {
   "cell_type": "code",
   "execution_count": 6,
   "metadata": {},
   "outputs": [],
   "source": [
    "#creating the function for GetOldTweets to scrape twitter data for older tweets\n",
    "def get_tweets(username, start_date, end_date, max_tweets):\n",
    "   \n",
    "    # specifying tweet search criteria \n",
    "    tweetCriteria = got.manager.TweetCriteria().setUsername(username)\\\n",
    "                          .setSince(start_date)\\\n",
    "                          .setUntil(end_date)\\\n",
    "                          .setMaxTweets(max_tweets)\n",
    "    \n",
    "    # scraping tweets based on criteria\n",
    "    tweet = got.manager.TweetManager.getTweets(tweetCriteria)\n",
    "    \n",
    "    # creating list of tweets with the tweet attributes \n",
    "    # specified in the list comprehension\n",
    "    text_tweets = [[tw.username,\n",
    "                tw.text,\n",
    "                tw.date,\n",
    "                tw.retweets,\n",
    "                tw.favorites,\n",
    "                tw.mentions,\n",
    "                tw.hashtags] for tw in tweet]\n",
    "    \n",
    "    # creating dataframe, assigning column names to list of tweets corresponding to tweet attributes\n",
    "    twitter_dataframe = pd.DataFrame(text_tweets, \n",
    "                            columns = ['User', 'Text','Date', 'Favorites', 'Retweets', 'Mentions', 'HashTags'])\n",
    "    \n",
    "    return twitter_dataframe"
   ]
  },
  {
   "cell_type": "code",
   "execution_count": 12,
   "metadata": {},
   "outputs": [],
   "source": [
    "#scrapping Trump's Twitter for his presidential tweets\n",
    "#I grabbed from Inauguration day (Jan 20, 2017) to Sept 07, 2020\n",
    "trump_sources = ['realDonaldTrump']\n",
    "twitter_dataframe = get_tweets(trump_sources,\n",
    "                     start_date = \"2017-01-20\", \n",
    "                     end_date = \"2020-09-7\",\n",
    "                    max_tweets = 18000).sort_values('Date', ascending=True)"
   ]
  },
  {
   "cell_type": "code",
   "execution_count": 13,
   "metadata": {},
   "outputs": [],
   "source": [
    "#saving Trump's presidential tweet's to a CSV for ease of access\n",
    "twitter_dataframe.to_csv (r'C:\\Users\\sunsh\\Desktop\\ACC\\Jupyter\\trump_tweetsCORRECTED_dataframe.csv', index = False, header=True)"
   ]
  },
  {
   "cell_type": "code",
   "execution_count": 15,
   "metadata": {},
   "outputs": [],
   "source": [
    "#scrapping Obama's Twitter for his presidential tweets\n",
    "#It is not a 1:1 comparision, but I grabbed from Obama's first year as president\n",
    "obama_sources = ['barackobama']\n",
    "twitter_dataframe = get_tweets(obama_sources,\n",
    "                     start_date = \"2009-01-20\", \n",
    "                     end_date = \"2013-01-20\",\n",
    "                    max_tweets = 16000).sort_values('Date', ascending=True)"
   ]
  },
  {
   "cell_type": "code",
   "execution_count": 8,
   "metadata": {},
   "outputs": [],
   "source": [
    "#scrapping Obama's Twitter for his presidential tweets from his second term\n",
    "#I realized he might have more tweets from the second term then the first+be a better comparision\n",
    "obama_sources2 = ['barackobama']\n",
    "twitter_dataframe = get_tweets(obama_sources2,\n",
    "                     start_date = \"2013-01-20\", \n",
    "                     end_date = \"2017-01-20\",\n",
    "                    max_tweets = 16000).sort_values('Date', ascending=True)"
   ]
  },
  {
   "cell_type": "code",
   "execution_count": 10,
   "metadata": {},
   "outputs": [],
   "source": [
    "#saving Obama's presidential tweet's to a CSV for ease of access\n",
    "twitter_dataframe.to_csv (r'C:\\Users\\sunsh\\Desktop\\ACC\\Jupyter\\obamatweets2ndterm_dataframe.csv', index = False, header=True)"
   ]
  },
  {
   "cell_type": "code",
   "execution_count": 17,
   "metadata": {},
   "outputs": [],
   "source": [
    "#saving Obama's presidential tweet's to a CSV for ease of access\n",
    "twitter_dataframe.to_csv (r'C:\\Users\\sunsh\\Desktop\\ACC\\Jupyter\\obamatweets_dataframe.csv', index = False, header=True)"
   ]
  },
  {
   "cell_type": "code",
   "execution_count": 18,
   "metadata": {},
   "outputs": [],
   "source": [
    "#scrapping Trudeau's Twitter for his tweets during his first term as PM\n",
    "trudeau_sources = ['JustinTrudeau']\n",
    "twitter_dataframe = get_tweets(trudeau_sources,\n",
    "                     start_date = \"2015-11-4\", \n",
    "                     end_date = \"2019-11-20\",\n",
    "                    max_tweets = 20000).sort_values('Date', ascending=True)"
   ]
  },
  {
   "cell_type": "code",
   "execution_count": 19,
   "metadata": {},
   "outputs": [],
   "source": [
    "#saving Trudeau's PM tweet's to a CSV for ease of access\n",
    "twitter_dataframe.to_csv (r'C:\\Users\\sunsh\\Desktop\\ACC\\Jupyter\\trudeautwets_dataframe.csv', index = False, header=True)"
   ]
  }
 ],
 "metadata": {
  "kernelspec": {
   "display_name": "Python 3",
   "language": "python",
   "name": "python3"
  },
  "language_info": {
   "codemirror_mode": {
    "name": "ipython",
    "version": 3
   },
   "file_extension": ".py",
   "mimetype": "text/x-python",
   "name": "python",
   "nbconvert_exporter": "python",
   "pygments_lexer": "ipython3",
   "version": "3.8.3"
  }
 },
 "nbformat": 4,
 "nbformat_minor": 4
}
